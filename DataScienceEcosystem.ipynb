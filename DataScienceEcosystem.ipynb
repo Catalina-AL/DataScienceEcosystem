{
  "nbformat": 4,
  "nbformat_minor": 0,
  "metadata": {
    "colab": {
      "provenance": []
    },
    "kernelspec": {
      "name": "python3",
      "display_name": "Python 3"
    },
    "language_info": {
      "name": "python"
    }
  },
  "cells": [
    {
      "cell_type": "markdown",
      "source": [
        "#Herramientas y Ecosistema de Ciencia de Datos"
      ],
      "metadata": {
        "id": "R3CpCl-14CBn"
      }
    },
    {
      "cell_type": "markdown",
      "source": [
        "En este cuaderno se resumen las herramientas y el ecosistema de la ciencia de datos.\n",
        "\n",
        "Es un recurso de aprendizaje para científicos de datos principiantes, ofreciendo una introducción a los pilares esenciales de la ciencia de datos moderna."
      ],
      "metadata": {
        "id": "M8IUzQUS5Myn"
      }
    },
    {
      "cell_type": "markdown",
      "source": [
        "**Objetivos:**\n",
        "- Enumerar los lenguajes populares para la ciencia de datos.\n",
        "- Describir las bibliotecas comunes utilizadas por los científicos de datos.\n",
        "- Crear tablas en cuadernos Jupyter.\n",
        "- Mostrar ejemplos de expresiones aritméticas.\n",
        "- Convertir unidades de tiempo en Python.\n"
      ],
      "metadata": {
        "id": "tycxL1Rq_Guy"
      }
    },
    {
      "cell_type": "markdown",
      "source": [
        "Algunos de los lenguajes populares que utilizan los científicos de datos son:\n",
        "1. Python\n",
        "2. R\n",
        "3. SQL\n",
        "4. Julia\n",
        "5. Scala"
      ],
      "metadata": {
        "id": "tiQh1VsM7cAv"
      }
    },
    {
      "cell_type": "markdown",
      "source": [
        "Algunas de las bibliotecas comúnmente utilizadas por los científicos de datos incluyen:\n",
        "1. Pandas\n",
        "2. Matplotlib\n",
        "3. NumPy\n",
        "4. TensorFlow\n",
        "5. Scikit-learn\n"
      ],
      "metadata": {
        "id": "vxJKsKzTD9Id"
      }
    },
    {
      "cell_type": "markdown",
      "source": [
        "| Herramientas de Ciencia de Datos |\n",
        "|----------------------------------|\n",
        "| Jupyter Notebook                 |\n",
        "| RStudio                          |\n",
        "| Apache Zeppelin                  |\n"
      ],
      "metadata": {
        "id": "rn1jvRft8lkz"
      }
    },
    {
      "cell_type": "markdown",
      "source": [
        "### A continuación, se muestran algunos ejemplos de evaluación de expresiones aritméticas en Python"
      ],
      "metadata": {
        "id": "r3b6TP6f88-_"
      }
    },
    {
      "cell_type": "code",
      "source": [
        "# Esta es una expresión aritmética simple para multiplicar y luego sumar enteros\n",
        "(3 * 4) + 5\n"
      ],
      "metadata": {
        "colab": {
          "base_uri": "https://localhost:8080/"
        },
        "id": "vvGbM2mN9wdH",
        "outputId": "8d51ca85-8a84-4988-e037-cf57e5d9bcef"
      },
      "execution_count": 1,
      "outputs": [
        {
          "output_type": "execute_result",
          "data": {
            "text/plain": [
              "17"
            ]
          },
          "metadata": {},
          "execution_count": 1
        }
      ]
    },
    {
      "cell_type": "code",
      "source": [
        "# Esto convertirá 200 minutos a horas dividiendo por 60\n",
        "200 / 60\n"
      ],
      "metadata": {
        "colab": {
          "base_uri": "https://localhost:8080/"
        },
        "id": "2HjnhfIk-lUQ",
        "outputId": "29e63723-25b4-49b6-8658-79f62b6d9b8d"
      },
      "execution_count": 2,
      "outputs": [
        {
          "output_type": "execute_result",
          "data": {
            "text/plain": [
              "3.3333333333333335"
            ]
          },
          "metadata": {},
          "execution_count": 2
        }
      ]
    },
    {
      "cell_type": "markdown",
      "source": [
        "## Autor\n",
        "Catalina Adams\n"
      ],
      "metadata": {
        "id": "NudjJeTfAsOF"
      }
    }
  ]
}